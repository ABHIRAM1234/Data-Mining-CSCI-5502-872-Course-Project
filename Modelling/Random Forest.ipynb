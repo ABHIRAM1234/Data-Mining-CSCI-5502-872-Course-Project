{
 "cells": [
  {
   "cell_type": "code",
   "execution_count": 34,
   "id": "56501aac",
   "metadata": {},
   "outputs": [],
   "source": [
    "import pandas as pd"
   ]
  },
  {
   "cell_type": "code",
   "execution_count": 35,
   "id": "d7ca6782",
   "metadata": {},
   "outputs": [
    {
     "data": {
      "text/html": [
       "<div>\n",
       "<style scoped>\n",
       "    .dataframe tbody tr th:only-of-type {\n",
       "        vertical-align: middle;\n",
       "    }\n",
       "\n",
       "    .dataframe tbody tr th {\n",
       "        vertical-align: top;\n",
       "    }\n",
       "\n",
       "    .dataframe thead th {\n",
       "        text-align: right;\n",
       "    }\n",
       "</style>\n",
       "<table border=\"1\" class=\"dataframe\">\n",
       "  <thead>\n",
       "    <tr style=\"text-align: right;\">\n",
       "      <th></th>\n",
       "      <th>temperature_2m</th>\n",
       "      <th>relative_humidity_2m</th>\n",
       "      <th>dew_point_2m</th>\n",
       "      <th>apparent_temperature</th>\n",
       "      <th>precipitation</th>\n",
       "      <th>rain</th>\n",
       "      <th>snowfall</th>\n",
       "      <th>snow_depth</th>\n",
       "      <th>weather_code</th>\n",
       "      <th>pressure_msl</th>\n",
       "      <th>...</th>\n",
       "      <th>wind_gusts_10m</th>\n",
       "      <th>soil_temperature_0_to_7cm</th>\n",
       "      <th>soil_temperature_7_to_28cm</th>\n",
       "      <th>soil_temperature_28_to_100cm</th>\n",
       "      <th>soil_temperature_100_to_255cm</th>\n",
       "      <th>soil_moisture_0_to_7cm</th>\n",
       "      <th>soil_moisture_7_to_28cm</th>\n",
       "      <th>soil_moisture_28_to_100cm</th>\n",
       "      <th>soil_moisture_100_to_255cm</th>\n",
       "      <th>fire</th>\n",
       "    </tr>\n",
       "  </thead>\n",
       "  <tbody>\n",
       "    <tr>\n",
       "      <th>0</th>\n",
       "      <td>10.4600</td>\n",
       "      <td>95.42882</td>\n",
       "      <td>9.7600</td>\n",
       "      <td>9.326071</td>\n",
       "      <td>0.0</td>\n",
       "      <td>0.0</td>\n",
       "      <td>0.0</td>\n",
       "      <td>0.0</td>\n",
       "      <td>0.0</td>\n",
       "      <td>1012.4</td>\n",
       "      <td>...</td>\n",
       "      <td>11.879999</td>\n",
       "      <td>10.7600</td>\n",
       "      <td>13.110001</td>\n",
       "      <td>14.0100</td>\n",
       "      <td>21.910000</td>\n",
       "      <td>0.275</td>\n",
       "      <td>0.318</td>\n",
       "      <td>0.195</td>\n",
       "      <td>0.026</td>\n",
       "      <td>1</td>\n",
       "    </tr>\n",
       "    <tr>\n",
       "      <th>1</th>\n",
       "      <td>10.4535</td>\n",
       "      <td>95.42859</td>\n",
       "      <td>9.7535</td>\n",
       "      <td>9.317741</td>\n",
       "      <td>0.0</td>\n",
       "      <td>0.0</td>\n",
       "      <td>0.0</td>\n",
       "      <td>0.0</td>\n",
       "      <td>0.0</td>\n",
       "      <td>1012.4</td>\n",
       "      <td>...</td>\n",
       "      <td>11.879999</td>\n",
       "      <td>10.7535</td>\n",
       "      <td>13.103500</td>\n",
       "      <td>14.0035</td>\n",
       "      <td>21.903500</td>\n",
       "      <td>0.275</td>\n",
       "      <td>0.318</td>\n",
       "      <td>0.195</td>\n",
       "      <td>0.026</td>\n",
       "      <td>1</td>\n",
       "    </tr>\n",
       "    <tr>\n",
       "      <th>2</th>\n",
       "      <td>10.4145</td>\n",
       "      <td>95.42721</td>\n",
       "      <td>9.7145</td>\n",
       "      <td>9.267784</td>\n",
       "      <td>0.0</td>\n",
       "      <td>0.0</td>\n",
       "      <td>0.0</td>\n",
       "      <td>0.0</td>\n",
       "      <td>0.0</td>\n",
       "      <td>1012.4</td>\n",
       "      <td>...</td>\n",
       "      <td>11.879999</td>\n",
       "      <td>10.7145</td>\n",
       "      <td>13.064501</td>\n",
       "      <td>13.9645</td>\n",
       "      <td>21.864500</td>\n",
       "      <td>0.275</td>\n",
       "      <td>0.318</td>\n",
       "      <td>0.195</td>\n",
       "      <td>0.026</td>\n",
       "      <td>1</td>\n",
       "    </tr>\n",
       "    <tr>\n",
       "      <th>3</th>\n",
       "      <td>9.2235</td>\n",
       "      <td>99.66392</td>\n",
       "      <td>9.1735</td>\n",
       "      <td>8.143780</td>\n",
       "      <td>0.0</td>\n",
       "      <td>0.0</td>\n",
       "      <td>0.0</td>\n",
       "      <td>0.0</td>\n",
       "      <td>0.0</td>\n",
       "      <td>1012.5</td>\n",
       "      <td>...</td>\n",
       "      <td>13.320000</td>\n",
       "      <td>10.4235</td>\n",
       "      <td>12.823500</td>\n",
       "      <td>13.7235</td>\n",
       "      <td>21.923500</td>\n",
       "      <td>0.273</td>\n",
       "      <td>0.324</td>\n",
       "      <td>0.201</td>\n",
       "      <td>0.020</td>\n",
       "      <td>1</td>\n",
       "    </tr>\n",
       "    <tr>\n",
       "      <th>4</th>\n",
       "      <td>9.2430</td>\n",
       "      <td>99.66399</td>\n",
       "      <td>9.1930</td>\n",
       "      <td>8.168585</td>\n",
       "      <td>0.0</td>\n",
       "      <td>0.0</td>\n",
       "      <td>0.0</td>\n",
       "      <td>0.0</td>\n",
       "      <td>0.0</td>\n",
       "      <td>1012.5</td>\n",
       "      <td>...</td>\n",
       "      <td>13.320000</td>\n",
       "      <td>10.4430</td>\n",
       "      <td>12.842999</td>\n",
       "      <td>13.7430</td>\n",
       "      <td>21.942999</td>\n",
       "      <td>0.273</td>\n",
       "      <td>0.324</td>\n",
       "      <td>0.201</td>\n",
       "      <td>0.020</td>\n",
       "      <td>1</td>\n",
       "    </tr>\n",
       "  </tbody>\n",
       "</table>\n",
       "<p>5 rows × 31 columns</p>\n",
       "</div>"
      ],
      "text/plain": [
       "   temperature_2m  relative_humidity_2m  dew_point_2m  apparent_temperature  \\\n",
       "0         10.4600              95.42882        9.7600              9.326071   \n",
       "1         10.4535              95.42859        9.7535              9.317741   \n",
       "2         10.4145              95.42721        9.7145              9.267784   \n",
       "3          9.2235              99.66392        9.1735              8.143780   \n",
       "4          9.2430              99.66399        9.1930              8.168585   \n",
       "\n",
       "   precipitation  rain  snowfall  snow_depth  weather_code  pressure_msl  ...  \\\n",
       "0            0.0   0.0       0.0         0.0           0.0        1012.4  ...   \n",
       "1            0.0   0.0       0.0         0.0           0.0        1012.4  ...   \n",
       "2            0.0   0.0       0.0         0.0           0.0        1012.4  ...   \n",
       "3            0.0   0.0       0.0         0.0           0.0        1012.5  ...   \n",
       "4            0.0   0.0       0.0         0.0           0.0        1012.5  ...   \n",
       "\n",
       "   wind_gusts_10m  soil_temperature_0_to_7cm  soil_temperature_7_to_28cm  \\\n",
       "0       11.879999                    10.7600                   13.110001   \n",
       "1       11.879999                    10.7535                   13.103500   \n",
       "2       11.879999                    10.7145                   13.064501   \n",
       "3       13.320000                    10.4235                   12.823500   \n",
       "4       13.320000                    10.4430                   12.842999   \n",
       "\n",
       "   soil_temperature_28_to_100cm  soil_temperature_100_to_255cm  \\\n",
       "0                       14.0100                      21.910000   \n",
       "1                       14.0035                      21.903500   \n",
       "2                       13.9645                      21.864500   \n",
       "3                       13.7235                      21.923500   \n",
       "4                       13.7430                      21.942999   \n",
       "\n",
       "   soil_moisture_0_to_7cm  soil_moisture_7_to_28cm  soil_moisture_28_to_100cm  \\\n",
       "0                   0.275                    0.318                      0.195   \n",
       "1                   0.275                    0.318                      0.195   \n",
       "2                   0.275                    0.318                      0.195   \n",
       "3                   0.273                    0.324                      0.201   \n",
       "4                   0.273                    0.324                      0.201   \n",
       "\n",
       "   soil_moisture_100_to_255cm  fire  \n",
       "0                       0.026     1  \n",
       "1                       0.026     1  \n",
       "2                       0.026     1  \n",
       "3                       0.020     1  \n",
       "4                       0.020     1  \n",
       "\n",
       "[5 rows x 31 columns]"
      ]
     },
     "execution_count": 35,
     "metadata": {},
     "output_type": "execute_result"
    }
   ],
   "source": [
    "training_df=pd.read_csv(\"../Datasets/training_df_raw.csv\")\n",
    "training_df.fillna(0,inplace=True)\n",
    "training_df.drop(['date','time'],axis=1,inplace=True)\n",
    "training_df.head()"
   ]
  },
  {
   "cell_type": "code",
   "execution_count": 36,
   "id": "934557de",
   "metadata": {},
   "outputs": [
    {
     "data": {
      "text/plain": [
       "(113896, 31)"
      ]
     },
     "execution_count": 36,
     "metadata": {},
     "output_type": "execute_result"
    }
   ],
   "source": [
    "training_df.shape"
   ]
  },
  {
   "cell_type": "code",
   "execution_count": 37,
   "id": "e309ca31",
   "metadata": {},
   "outputs": [],
   "source": [
    "X=training_df.drop('fire',axis=1)\n",
    "y=training_df['fire']"
   ]
  },
  {
   "cell_type": "code",
   "execution_count": 38,
   "id": "4b265ef8",
   "metadata": {},
   "outputs": [],
   "source": [
    "\"\"\"\n",
    "Standard Scaling for the numerical variables cause every column is in different units - Centigrade, centimeter, millimeter etc\n",
    "\"\"\"\n",
    "from sklearn.pipeline import Pipeline\n",
    "from sklearn.preprocessing import StandardScaler\n",
    "from sklearn.compose import ColumnTransformer\n",
    "\n",
    "def feature_transformation(encode_df):\n",
    "    num_attributes=encode_df.columns.to_list()\n",
    "    numeric_pipeline=Pipeline([\n",
    "        ('std_scaler',StandardScaler())\n",
    "    ])\n",
    "    encoder_pipeline=ColumnTransformer([\n",
    "        (\"numeric_var\",numeric_pipeline,num_attributes),\n",
    "    ])\n",
    "    df_encoded=encoder_pipeline.fit_transform(encode_df)\n",
    "    return df_encoded,encoder_pipeline\n",
    "X_transformed=feature_transformation(X)[0]"
   ]
  },
  {
   "cell_type": "code",
   "execution_count": 39,
   "id": "18b01457",
   "metadata": {},
   "outputs": [],
   "source": [
    "from sklearn.model_selection import KFold, cross_val_score, RandomizedSearchCV, train_test_split\n",
    "from scipy.stats import randint\n",
    "from sklearn.ensemble import RandomForestClassifier\n",
    "import numpy as np\n",
    "import optuna\n",
    "from sklearn.metrics import accuracy_score"
   ]
  },
  {
   "cell_type": "markdown",
   "id": "30c30d8e",
   "metadata": {},
   "source": [
    "### Feature Importance"
   ]
  },
  {
   "cell_type": "code",
   "execution_count": 40,
   "id": "20fe8afa",
   "metadata": {},
   "outputs": [],
   "source": [
    "X_train, X_test, y_train, y_test = train_test_split(X_transformed, y, test_size=0.2, random_state=42)"
   ]
  },
  {
   "cell_type": "code",
   "execution_count": 41,
   "id": "54d2f57b",
   "metadata": {},
   "outputs": [],
   "source": [
    "rf = RandomForestClassifier(random_state=42, n_jobs=-1)"
   ]
  },
  {
   "cell_type": "code",
   "execution_count": 42,
   "id": "5820a2c9",
   "metadata": {},
   "outputs": [
    {
     "name": "stderr",
     "output_type": "stream",
     "text": [
      "[Parallel(n_jobs=-1)]: Using backend ThreadingBackend with 16 concurrent workers.\n",
      "[Parallel(n_jobs=-1)]: Done  18 tasks      | elapsed:    1.2s\n",
      "[Parallel(n_jobs=-1)]: Done 100 out of 100 | elapsed:    4.1s finished\n"
     ]
    },
    {
     "data": {
      "text/html": [
       "<style>#sk-container-id-2 {color: black;background-color: white;}#sk-container-id-2 pre{padding: 0;}#sk-container-id-2 div.sk-toggleable {background-color: white;}#sk-container-id-2 label.sk-toggleable__label {cursor: pointer;display: block;width: 100%;margin-bottom: 0;padding: 0.3em;box-sizing: border-box;text-align: center;}#sk-container-id-2 label.sk-toggleable__label-arrow:before {content: \"▸\";float: left;margin-right: 0.25em;color: #696969;}#sk-container-id-2 label.sk-toggleable__label-arrow:hover:before {color: black;}#sk-container-id-2 div.sk-estimator:hover label.sk-toggleable__label-arrow:before {color: black;}#sk-container-id-2 div.sk-toggleable__content {max-height: 0;max-width: 0;overflow: hidden;text-align: left;background-color: #f0f8ff;}#sk-container-id-2 div.sk-toggleable__content pre {margin: 0.2em;color: black;border-radius: 0.25em;background-color: #f0f8ff;}#sk-container-id-2 input.sk-toggleable__control:checked~div.sk-toggleable__content {max-height: 200px;max-width: 100%;overflow: auto;}#sk-container-id-2 input.sk-toggleable__control:checked~label.sk-toggleable__label-arrow:before {content: \"▾\";}#sk-container-id-2 div.sk-estimator input.sk-toggleable__control:checked~label.sk-toggleable__label {background-color: #d4ebff;}#sk-container-id-2 div.sk-label input.sk-toggleable__control:checked~label.sk-toggleable__label {background-color: #d4ebff;}#sk-container-id-2 input.sk-hidden--visually {border: 0;clip: rect(1px 1px 1px 1px);clip: rect(1px, 1px, 1px, 1px);height: 1px;margin: -1px;overflow: hidden;padding: 0;position: absolute;width: 1px;}#sk-container-id-2 div.sk-estimator {font-family: monospace;background-color: #f0f8ff;border: 1px dotted black;border-radius: 0.25em;box-sizing: border-box;margin-bottom: 0.5em;}#sk-container-id-2 div.sk-estimator:hover {background-color: #d4ebff;}#sk-container-id-2 div.sk-parallel-item::after {content: \"\";width: 100%;border-bottom: 1px solid gray;flex-grow: 1;}#sk-container-id-2 div.sk-label:hover label.sk-toggleable__label {background-color: #d4ebff;}#sk-container-id-2 div.sk-serial::before {content: \"\";position: absolute;border-left: 1px solid gray;box-sizing: border-box;top: 0;bottom: 0;left: 50%;z-index: 0;}#sk-container-id-2 div.sk-serial {display: flex;flex-direction: column;align-items: center;background-color: white;padding-right: 0.2em;padding-left: 0.2em;position: relative;}#sk-container-id-2 div.sk-item {position: relative;z-index: 1;}#sk-container-id-2 div.sk-parallel {display: flex;align-items: stretch;justify-content: center;background-color: white;position: relative;}#sk-container-id-2 div.sk-item::before, #sk-container-id-2 div.sk-parallel-item::before {content: \"\";position: absolute;border-left: 1px solid gray;box-sizing: border-box;top: 0;bottom: 0;left: 50%;z-index: -1;}#sk-container-id-2 div.sk-parallel-item {display: flex;flex-direction: column;z-index: 1;position: relative;background-color: white;}#sk-container-id-2 div.sk-parallel-item:first-child::after {align-self: flex-end;width: 50%;}#sk-container-id-2 div.sk-parallel-item:last-child::after {align-self: flex-start;width: 50%;}#sk-container-id-2 div.sk-parallel-item:only-child::after {width: 0;}#sk-container-id-2 div.sk-dashed-wrapped {border: 1px dashed gray;margin: 0 0.4em 0.5em 0.4em;box-sizing: border-box;padding-bottom: 0.4em;background-color: white;}#sk-container-id-2 div.sk-label label {font-family: monospace;font-weight: bold;display: inline-block;line-height: 1.2em;}#sk-container-id-2 div.sk-label-container {text-align: center;}#sk-container-id-2 div.sk-container {/* jupyter's `normalize.less` sets `[hidden] { display: none; }` but bootstrap.min.css set `[hidden] { display: none !important; }` so we also need the `!important` here to be able to override the default hidden behavior on the sphinx rendered scikit-learn.org. See: https://github.com/scikit-learn/scikit-learn/issues/21755 */display: inline-block !important;position: relative;}#sk-container-id-2 div.sk-text-repr-fallback {display: none;}</style><div id=\"sk-container-id-2\" class=\"sk-top-container\"><div class=\"sk-text-repr-fallback\"><pre>RandomForestClassifier(n_jobs=-1, random_state=42, verbose=True)</pre><b>In a Jupyter environment, please rerun this cell to show the HTML representation or trust the notebook. <br />On GitHub, the HTML representation is unable to render, please try loading this page with nbviewer.org.</b></div><div class=\"sk-container\" hidden><div class=\"sk-item\"><div class=\"sk-estimator sk-toggleable\"><input class=\"sk-toggleable__control sk-hidden--visually\" id=\"sk-estimator-id-2\" type=\"checkbox\" checked><label for=\"sk-estimator-id-2\" class=\"sk-toggleable__label sk-toggleable__label-arrow\">RandomForestClassifier</label><div class=\"sk-toggleable__content\"><pre>RandomForestClassifier(n_jobs=-1, random_state=42, verbose=True)</pre></div></div></div></div></div>"
      ],
      "text/plain": [
       "RandomForestClassifier(n_jobs=-1, random_state=42, verbose=True)"
      ]
     },
     "execution_count": 42,
     "metadata": {},
     "output_type": "execute_result"
    }
   ],
   "source": [
    "from sklearn.ensemble import RandomForestClassifier\n",
    "rf = RandomForestClassifier(n_estimators=100, random_state=42,n_jobs=-1,verbose=True)\n",
    "rf.fit(X_train, y_train)"
   ]
  },
  {
   "cell_type": "code",
   "execution_count": 43,
   "id": "45fe3890",
   "metadata": {},
   "outputs": [
    {
     "data": {
      "text/html": [
       "<div>\n",
       "<style scoped>\n",
       "    .dataframe tbody tr th:only-of-type {\n",
       "        vertical-align: middle;\n",
       "    }\n",
       "\n",
       "    .dataframe tbody tr th {\n",
       "        vertical-align: top;\n",
       "    }\n",
       "\n",
       "    .dataframe thead th {\n",
       "        text-align: right;\n",
       "    }\n",
       "</style>\n",
       "<table border=\"1\" class=\"dataframe\">\n",
       "  <thead>\n",
       "    <tr style=\"text-align: right;\">\n",
       "      <th></th>\n",
       "      <th>Feature</th>\n",
       "      <th>Gini Importance</th>\n",
       "    </tr>\n",
       "  </thead>\n",
       "  <tbody>\n",
       "    <tr>\n",
       "      <th>15</th>\n",
       "      <td>et0_fao_evapotranspiration</td>\n",
       "      <td>0.106557</td>\n",
       "    </tr>\n",
       "    <tr>\n",
       "      <th>22</th>\n",
       "      <td>soil_temperature_0_to_7cm</td>\n",
       "      <td>0.071965</td>\n",
       "    </tr>\n",
       "    <tr>\n",
       "      <th>23</th>\n",
       "      <td>soil_temperature_7_to_28cm</td>\n",
       "      <td>0.058234</td>\n",
       "    </tr>\n",
       "    <tr>\n",
       "      <th>1</th>\n",
       "      <td>relative_humidity_2m</td>\n",
       "      <td>0.046543</td>\n",
       "    </tr>\n",
       "    <tr>\n",
       "      <th>17</th>\n",
       "      <td>wind_speed_10m</td>\n",
       "      <td>0.046171</td>\n",
       "    </tr>\n",
       "    <tr>\n",
       "      <th>19</th>\n",
       "      <td>wind_direction_10m</td>\n",
       "      <td>0.044672</td>\n",
       "    </tr>\n",
       "    <tr>\n",
       "      <th>21</th>\n",
       "      <td>wind_gusts_10m</td>\n",
       "      <td>0.044190</td>\n",
       "    </tr>\n",
       "    <tr>\n",
       "      <th>18</th>\n",
       "      <td>wind_speed_100m</td>\n",
       "      <td>0.044107</td>\n",
       "    </tr>\n",
       "    <tr>\n",
       "      <th>10</th>\n",
       "      <td>surface_pressure</td>\n",
       "      <td>0.043244</td>\n",
       "    </tr>\n",
       "    <tr>\n",
       "      <th>20</th>\n",
       "      <td>wind_direction_100m</td>\n",
       "      <td>0.042781</td>\n",
       "    </tr>\n",
       "    <tr>\n",
       "      <th>0</th>\n",
       "      <td>temperature_2m</td>\n",
       "      <td>0.042209</td>\n",
       "    </tr>\n",
       "    <tr>\n",
       "      <th>3</th>\n",
       "      <td>apparent_temperature</td>\n",
       "      <td>0.041513</td>\n",
       "    </tr>\n",
       "    <tr>\n",
       "      <th>9</th>\n",
       "      <td>pressure_msl</td>\n",
       "      <td>0.041005</td>\n",
       "    </tr>\n",
       "    <tr>\n",
       "      <th>16</th>\n",
       "      <td>vapour_pressure_deficit</td>\n",
       "      <td>0.040949</td>\n",
       "    </tr>\n",
       "    <tr>\n",
       "      <th>2</th>\n",
       "      <td>dew_point_2m</td>\n",
       "      <td>0.039985</td>\n",
       "    </tr>\n",
       "    <tr>\n",
       "      <th>24</th>\n",
       "      <td>soil_temperature_28_to_100cm</td>\n",
       "      <td>0.039325</td>\n",
       "    </tr>\n",
       "    <tr>\n",
       "      <th>26</th>\n",
       "      <td>soil_moisture_0_to_7cm</td>\n",
       "      <td>0.035828</td>\n",
       "    </tr>\n",
       "    <tr>\n",
       "      <th>25</th>\n",
       "      <td>soil_temperature_100_to_255cm</td>\n",
       "      <td>0.035776</td>\n",
       "    </tr>\n",
       "    <tr>\n",
       "      <th>29</th>\n",
       "      <td>soil_moisture_100_to_255cm</td>\n",
       "      <td>0.029887</td>\n",
       "    </tr>\n",
       "    <tr>\n",
       "      <th>28</th>\n",
       "      <td>soil_moisture_28_to_100cm</td>\n",
       "      <td>0.029644</td>\n",
       "    </tr>\n",
       "    <tr>\n",
       "      <th>27</th>\n",
       "      <td>soil_moisture_7_to_28cm</td>\n",
       "      <td>0.028493</td>\n",
       "    </tr>\n",
       "    <tr>\n",
       "      <th>11</th>\n",
       "      <td>cloud_cover</td>\n",
       "      <td>0.016192</td>\n",
       "    </tr>\n",
       "    <tr>\n",
       "      <th>14</th>\n",
       "      <td>cloud_cover_high</td>\n",
       "      <td>0.011293</td>\n",
       "    </tr>\n",
       "    <tr>\n",
       "      <th>13</th>\n",
       "      <td>cloud_cover_mid</td>\n",
       "      <td>0.008965</td>\n",
       "    </tr>\n",
       "    <tr>\n",
       "      <th>12</th>\n",
       "      <td>cloud_cover_low</td>\n",
       "      <td>0.004849</td>\n",
       "    </tr>\n",
       "    <tr>\n",
       "      <th>8</th>\n",
       "      <td>weather_code</td>\n",
       "      <td>0.004159</td>\n",
       "    </tr>\n",
       "    <tr>\n",
       "      <th>5</th>\n",
       "      <td>rain</td>\n",
       "      <td>0.000699</td>\n",
       "    </tr>\n",
       "    <tr>\n",
       "      <th>4</th>\n",
       "      <td>precipitation</td>\n",
       "      <td>0.000654</td>\n",
       "    </tr>\n",
       "    <tr>\n",
       "      <th>7</th>\n",
       "      <td>snow_depth</td>\n",
       "      <td>0.000099</td>\n",
       "    </tr>\n",
       "    <tr>\n",
       "      <th>6</th>\n",
       "      <td>snowfall</td>\n",
       "      <td>0.000011</td>\n",
       "    </tr>\n",
       "  </tbody>\n",
       "</table>\n",
       "</div>"
      ],
      "text/plain": [
       "                          Feature  Gini Importance\n",
       "15     et0_fao_evapotranspiration         0.106557\n",
       "22      soil_temperature_0_to_7cm         0.071965\n",
       "23     soil_temperature_7_to_28cm         0.058234\n",
       "1            relative_humidity_2m         0.046543\n",
       "17                 wind_speed_10m         0.046171\n",
       "19             wind_direction_10m         0.044672\n",
       "21                 wind_gusts_10m         0.044190\n",
       "18                wind_speed_100m         0.044107\n",
       "10               surface_pressure         0.043244\n",
       "20            wind_direction_100m         0.042781\n",
       "0                  temperature_2m         0.042209\n",
       "3            apparent_temperature         0.041513\n",
       "9                    pressure_msl         0.041005\n",
       "16        vapour_pressure_deficit         0.040949\n",
       "2                    dew_point_2m         0.039985\n",
       "24   soil_temperature_28_to_100cm         0.039325\n",
       "26         soil_moisture_0_to_7cm         0.035828\n",
       "25  soil_temperature_100_to_255cm         0.035776\n",
       "29     soil_moisture_100_to_255cm         0.029887\n",
       "28      soil_moisture_28_to_100cm         0.029644\n",
       "27        soil_moisture_7_to_28cm         0.028493\n",
       "11                    cloud_cover         0.016192\n",
       "14               cloud_cover_high         0.011293\n",
       "13                cloud_cover_mid         0.008965\n",
       "12                cloud_cover_low         0.004849\n",
       "8                    weather_code         0.004159\n",
       "5                            rain         0.000699\n",
       "4                   precipitation         0.000654\n",
       "7                      snow_depth         0.000099\n",
       "6                        snowfall         0.000011"
      ]
     },
     "execution_count": 43,
     "metadata": {},
     "output_type": "execute_result"
    }
   ],
   "source": [
    "\"\"\"\n",
    "Built a random forest model and displayed the best features based on Gini Importance\n",
    "\"\"\"\n",
    "importances = rf.feature_importances_\n",
    "feature_names=X.columns\n",
    "feature_imp_df = pd.DataFrame({'Feature': X.columns.tolist(), 'Gini Importance': importances}).sort_values('Gini Importance', ascending=False)\n",
    "feature_imp_df"
   ]
  },
  {
   "cell_type": "code",
   "execution_count": 44,
   "id": "42303adf",
   "metadata": {},
   "outputs": [],
   "source": [
    "\"\"\"\n",
    "Analytically - The features with lower importance involve cloud cover, weather code, rain, snow.\n",
    "Intuitively - You would expect rain, snow, weather code or cloud cover to have an effect on fire\n",
    "\"\"\"\n",
    "unimportant_features=feature_imp_df[feature_imp_df['Gini Importance']<(2/100)]['Feature'].tolist()"
   ]
  },
  {
   "cell_type": "code",
   "execution_count": 45,
   "id": "d6e0b2e3",
   "metadata": {},
   "outputs": [],
   "source": [
    "\"\"\"\n",
    "This is an optional step because since we have only about 31 features, the only advantage of dropping features that are highly correlated is the increase in model building time\n",
    "and not really the accuracy as seen below in the evaluation metrics. The AUC scores are pretty much the same\n",
    "\"\"\"\n",
    "high_correlated_features=['soil_temperature_7_to_28cm','wind_direction_10m','temperature_2m','soil_moisture_28_to_100cm',\n",
    "                          'soil_moisture_7_to_28cm','soil_temperature_100_to_255cm','soil_temperature_28_to_100cm',\n",
    "                          'soil_temperature_100_to_255cm','soil_moisture_100_to_255cm']"
   ]
  },
  {
   "cell_type": "code",
   "execution_count": 46,
   "id": "d80e5479",
   "metadata": {},
   "outputs": [
    {
     "data": {
      "text/plain": [
       "(113896, 13)"
      ]
     },
     "execution_count": 46,
     "metadata": {},
     "output_type": "execute_result"
    }
   ],
   "source": [
    "drop_features=unimportant_features+high_correlated_features\n",
    "X.drop(drop_features,axis=1,inplace=True)\n",
    "X.shape"
   ]
  },
  {
   "cell_type": "markdown",
   "id": "e1a6157a",
   "metadata": {},
   "source": [
    "### K Fold Cross Validation"
   ]
  },
  {
   "cell_type": "code",
   "execution_count": 59,
   "id": "57842aa7",
   "metadata": {},
   "outputs": [],
   "source": [
    "X_transformed=feature_transformation(X)[0]\n",
    "X_train, X_test, y_train, y_test = train_test_split(X_transformed, y, test_size=0.2, random_state=42)"
   ]
  },
  {
   "cell_type": "code",
   "execution_count": 63,
   "id": "29223edc",
   "metadata": {},
   "outputs": [
    {
     "name": "stdout",
     "output_type": "stream",
     "text": [
      "Mean Accuracy = 0.8350\n"
     ]
    }
   ],
   "source": [
    "kf = KFold(n_splits=5, shuffle=True, random_state=42)\n",
    "scores = cross_val_score(rf, X_train, y_train, cv=kf, scoring='accuracy')\n",
    "print(f\"Mean Accuracy = {np.mean(scores):.4f}\")"
   ]
  },
  {
   "cell_type": "markdown",
   "id": "673d9e5a",
   "metadata": {},
   "source": [
    "### Hyperparameter Tuning"
   ]
  },
  {
   "cell_type": "code",
   "execution_count": 50,
   "id": "e378425d",
   "metadata": {},
   "outputs": [
    {
     "name": "stderr",
     "output_type": "stream",
     "text": [
      "[I 2024-11-06 16:42:02,998] A new study created in memory with name: no-name-db899c0e-f5d2-41ef-97db-b9ac2a86f5ba\n",
      "[I 2024-11-06 16:42:42,651] Trial 0 finished with value: 0.7604477611940299 and parameters: {'n_estimators': 450, 'max_depth': 10, 'min_samples_split': 6, 'min_samples_leaf': 9, 'max_features': None, 'criterion': 'gini'}. Best is trial 0 with value: 0.7604477611940299.\n",
      "[I 2024-11-06 16:43:18,892] Trial 1 finished with value: 0.7194907813871817 and parameters: {'n_estimators': 450, 'max_depth': 8, 'min_samples_split': 5, 'min_samples_leaf': 18, 'max_features': None, 'criterion': 'gini'}. Best is trial 0 with value: 0.7604477611940299.\n",
      "[I 2024-11-06 16:44:00,795] Trial 2 finished with value: 0.7795434591747147 and parameters: {'n_estimators': 250, 'max_depth': 12, 'min_samples_split': 3, 'min_samples_leaf': 11, 'max_features': None, 'criterion': 'entropy'}. Best is trial 2 with value: 0.7795434591747147.\n",
      "[I 2024-11-06 16:44:19,200] Trial 3 finished with value: 0.7054872695346796 and parameters: {'n_estimators': 150, 'max_depth': 8, 'min_samples_split': 12, 'min_samples_leaf': 8, 'max_features': None, 'criterion': 'entropy'}. Best is trial 2 with value: 0.7795434591747147.\n",
      "[I 2024-11-06 16:44:32,553] Trial 4 finished with value: 0.8209394205443371 and parameters: {'n_estimators': 100, 'max_depth': 19, 'min_samples_split': 5, 'min_samples_leaf': 14, 'max_features': None, 'criterion': 'gini'}. Best is trial 4 with value: 0.8209394205443371.\n",
      "[I 2024-11-06 16:44:49,454] Trial 5 finished with value: 0.8155838454784899 and parameters: {'n_estimators': 500, 'max_depth': 19, 'min_samples_split': 16, 'min_samples_leaf': 17, 'max_features': 'sqrt', 'criterion': 'gini'}. Best is trial 4 with value: 0.8209394205443371.\n",
      "[I 2024-11-06 16:45:06,327] Trial 6 finished with value: 0.6631255487269535 and parameters: {'n_estimators': 300, 'max_depth': 5, 'min_samples_split': 12, 'min_samples_leaf': 12, 'max_features': None, 'criterion': 'gini'}. Best is trial 4 with value: 0.8209394205443371.\n",
      "[I 2024-11-06 16:45:10,255] Trial 7 finished with value: 0.6885864793678665 and parameters: {'n_estimators': 150, 'max_depth': 7, 'min_samples_split': 2, 'min_samples_leaf': 16, 'max_features': 'log2', 'criterion': 'entropy'}. Best is trial 4 with value: 0.8209394205443371.\n",
      "[I 2024-11-06 16:45:41,272] Trial 8 finished with value: 0.7652326602282704 and parameters: {'n_estimators': 200, 'max_depth': 11, 'min_samples_split': 17, 'min_samples_leaf': 11, 'max_features': None, 'criterion': 'entropy'}. Best is trial 4 with value: 0.8209394205443371.\n",
      "[I 2024-11-06 16:45:48,827] Trial 9 finished with value: 0.6581650570676032 and parameters: {'n_estimators': 500, 'max_depth': 5, 'min_samples_split': 11, 'min_samples_leaf': 4, 'max_features': 'log2', 'criterion': 'gini'}. Best is trial 4 with value: 0.8209394205443371.\n",
      "[I 2024-11-06 16:45:51,085] Trial 10 finished with value: 0.8445127304653205 and parameters: {'n_estimators': 50, 'max_depth': 20, 'min_samples_split': 8, 'min_samples_leaf': 1, 'max_features': 'sqrt', 'criterion': 'gini'}. Best is trial 10 with value: 0.8445127304653205.\n",
      "[I 2024-11-06 16:45:53,385] Trial 11 finished with value: 0.8445127304653205 and parameters: {'n_estimators': 50, 'max_depth': 20, 'min_samples_split': 8, 'min_samples_leaf': 1, 'max_features': 'sqrt', 'criterion': 'gini'}. Best is trial 10 with value: 0.8445127304653205.\n",
      "[I 2024-11-06 16:45:55,205] Trial 12 finished with value: 0.8298946444249341 and parameters: {'n_estimators': 50, 'max_depth': 16, 'min_samples_split': 9, 'min_samples_leaf': 1, 'max_features': 'sqrt', 'criterion': 'gini'}. Best is trial 10 with value: 0.8445127304653205.\n",
      "[I 2024-11-06 16:45:57,153] Trial 13 finished with value: 0.8305531167690957 and parameters: {'n_estimators': 50, 'max_depth': 16, 'min_samples_split': 8, 'min_samples_leaf': 1, 'max_features': 'sqrt', 'criterion': 'gini'}. Best is trial 10 with value: 0.8445127304653205.\n",
      "[I 2024-11-06 16:46:09,460] Trial 14 finished with value: 0.8420983318700614 and parameters: {'n_estimators': 350, 'max_depth': 20, 'min_samples_split': 9, 'min_samples_leaf': 5, 'max_features': 'sqrt', 'criterion': 'gini'}. Best is trial 10 with value: 0.8445127304653205.\n",
      "[I 2024-11-06 16:46:11,234] Trial 15 finished with value: 0.8226514486391572 and parameters: {'n_estimators': 50, 'max_depth': 16, 'min_samples_split': 20, 'min_samples_leaf': 5, 'max_features': 'sqrt', 'criterion': 'gini'}. Best is trial 10 with value: 0.8445127304653205.\n",
      "[I 2024-11-06 16:46:15,686] Trial 16 finished with value: 0.8030289727831431 and parameters: {'n_estimators': 150, 'max_depth': 13, 'min_samples_split': 14, 'min_samples_leaf': 3, 'max_features': 'sqrt', 'criterion': 'gini'}. Best is trial 10 with value: 0.8445127304653205.\n",
      "[I 2024-11-06 16:46:19,114] Trial 17 finished with value: 0.8271290605794557 and parameters: {'n_estimators': 100, 'max_depth': 17, 'min_samples_split': 8, 'min_samples_leaf': 7, 'max_features': 'sqrt', 'criterion': 'gini'}. Best is trial 10 with value: 0.8445127304653205.\n",
      "[I 2024-11-06 16:46:30,847] Trial 18 finished with value: 0.814793678665496 and parameters: {'n_estimators': 250, 'max_depth': 14, 'min_samples_split': 7, 'min_samples_leaf': 2, 'max_features': 'sqrt', 'criterion': 'entropy'}. Best is trial 10 with value: 0.8445127304653205.\n",
      "[I 2024-11-06 16:46:41,691] Trial 19 finished with value: 0.8086918349429324 and parameters: {'n_estimators': 350, 'max_depth': 18, 'min_samples_split': 4, 'min_samples_leaf': 20, 'max_features': 'log2', 'criterion': 'gini'}. Best is trial 10 with value: 0.8445127304653205.\n",
      "[I 2024-11-06 16:46:45,316] Trial 20 finished with value: 0.8375768217734855 and parameters: {'n_estimators': 100, 'max_depth': 20, 'min_samples_split': 10, 'min_samples_leaf': 6, 'max_features': 'sqrt', 'criterion': 'gini'}. Best is trial 10 with value: 0.8445127304653205.\n",
      "[I 2024-11-06 16:46:57,795] Trial 21 finished with value: 0.8440298507462687 and parameters: {'n_estimators': 350, 'max_depth': 20, 'min_samples_split': 9, 'min_samples_leaf': 4, 'max_features': 'sqrt', 'criterion': 'gini'}. Best is trial 10 with value: 0.8445127304653205.\n",
      "[I 2024-11-06 16:47:10,210] Trial 22 finished with value: 0.8426251097453907 and parameters: {'n_estimators': 350, 'max_depth': 18, 'min_samples_split': 7, 'min_samples_leaf': 3, 'max_features': 'sqrt', 'criterion': 'gini'}. Best is trial 10 with value: 0.8445127304653205.\n",
      "[I 2024-11-06 16:47:24,316] Trial 23 finished with value: 0.8451273046532045 and parameters: {'n_estimators': 400, 'max_depth': 20, 'min_samples_split': 14, 'min_samples_leaf': 1, 'max_features': 'sqrt', 'criterion': 'gini'}. Best is trial 23 with value: 0.8451273046532045.\n",
      "[I 2024-11-06 16:47:36,751] Trial 24 finished with value: 0.8164618086040386 and parameters: {'n_estimators': 400, 'max_depth': 14, 'min_samples_split': 14, 'min_samples_leaf': 1, 'max_features': 'sqrt', 'criterion': 'gini'}. Best is trial 23 with value: 0.8451273046532045.\n",
      "[I 2024-11-06 16:47:43,914] Trial 25 finished with value: 0.8374451273046533 and parameters: {'n_estimators': 200, 'max_depth': 18, 'min_samples_split': 14, 'min_samples_leaf': 3, 'max_features': 'sqrt', 'criterion': 'gini'}. Best is trial 23 with value: 0.8451273046532045.\n",
      "[I 2024-11-06 16:47:58,235] Trial 26 finished with value: 0.8222563652326602 and parameters: {'n_estimators': 300, 'max_depth': 15, 'min_samples_split': 17, 'min_samples_leaf': 1, 'max_features': 'log2', 'criterion': 'entropy'}. Best is trial 23 with value: 0.8451273046532045.\n",
      "[I 2024-11-06 16:48:05,194] Trial 27 finished with value: 0.8308604038630377 and parameters: {'n_estimators': 200, 'max_depth': 17, 'min_samples_split': 12, 'min_samples_leaf': 6, 'max_features': 'sqrt', 'criterion': 'gini'}. Best is trial 23 with value: 0.8451273046532045.\n",
      "[I 2024-11-06 16:48:08,905] Trial 28 finished with value: 0.8291044776119403 and parameters: {'n_estimators': 100, 'max_depth': 20, 'min_samples_split': 19, 'min_samples_leaf': 9, 'max_features': 'sqrt', 'criterion': 'gini'}. Best is trial 23 with value: 0.8451273046532045.\n",
      "[I 2024-11-06 16:48:21,783] Trial 29 finished with value: 0.8310359964881475 and parameters: {'n_estimators': 400, 'max_depth': 19, 'min_samples_split': 6, 'min_samples_leaf': 9, 'max_features': 'sqrt', 'criterion': 'gini'}. Best is trial 23 with value: 0.8451273046532045.\n"
     ]
    },
    {
     "name": "stderr",
     "output_type": "stream",
     "text": [
      "[I 2024-11-06 16:48:32,684] Trial 30 finished with value: 0.7543459174714662 and parameters: {'n_estimators': 450, 'max_depth': 10, 'min_samples_split': 11, 'min_samples_leaf': 2, 'max_features': 'log2', 'criterion': 'gini'}. Best is trial 23 with value: 0.8451273046532045.\n",
      "[I 2024-11-06 16:48:46,533] Trial 31 finished with value: 0.844073748902546 and parameters: {'n_estimators': 400, 'max_depth': 20, 'min_samples_split': 10, 'min_samples_leaf': 4, 'max_features': 'sqrt', 'criterion': 'gini'}. Best is trial 23 with value: 0.8451273046532045.\n",
      "[I 2024-11-06 16:49:01,718] Trial 32 finished with value: 0.8414837576821773 and parameters: {'n_estimators': 450, 'max_depth': 18, 'min_samples_split': 10, 'min_samples_leaf': 3, 'max_features': 'sqrt', 'criterion': 'gini'}. Best is trial 23 with value: 0.8451273046532045.\n",
      "[I 2024-11-06 16:49:16,135] Trial 33 finished with value: 0.8464881474978051 and parameters: {'n_estimators': 400, 'max_depth': 19, 'min_samples_split': 6, 'min_samples_leaf': 2, 'max_features': 'sqrt', 'criterion': 'gini'}. Best is trial 33 with value: 0.8464881474978051.\n",
      "[I 2024-11-06 16:49:29,816] Trial 34 finished with value: 0.840035118525022 and parameters: {'n_estimators': 400, 'max_depth': 17, 'min_samples_split': 5, 'min_samples_leaf': 2, 'max_features': 'sqrt', 'criterion': 'gini'}. Best is trial 33 with value: 0.8464881474978051.\n",
      "[I 2024-11-06 16:49:47,591] Trial 35 finished with value: 0.8492098331870062 and parameters: {'n_estimators': 300, 'max_depth': 19, 'min_samples_split': 6, 'min_samples_leaf': 1, 'max_features': 'sqrt', 'criterion': 'entropy'}. Best is trial 35 with value: 0.8492098331870062.\n",
      "[I 2024-11-06 16:50:49,936] Trial 36 finished with value: 0.840649692712906 and parameters: {'n_estimators': 300, 'max_depth': 19, 'min_samples_split': 4, 'min_samples_leaf': 5, 'max_features': None, 'criterion': 'entropy'}. Best is trial 35 with value: 0.8492098331870062.\n",
      "[I 2024-11-06 16:51:13,751] Trial 37 finished with value: 0.8374012291483758 and parameters: {'n_estimators': 450, 'max_depth': 19, 'min_samples_split': 6, 'min_samples_leaf': 7, 'max_features': 'sqrt', 'criterion': 'entropy'}. Best is trial 35 with value: 0.8492098331870062.\n",
      "[I 2024-11-06 16:51:58,300] Trial 38 finished with value: 0.8093942054433714 and parameters: {'n_estimators': 250, 'max_depth': 15, 'min_samples_split': 3, 'min_samples_leaf': 14, 'max_features': None, 'criterion': 'entropy'}. Best is trial 35 with value: 0.8492098331870062.\n",
      "[I 2024-11-06 16:52:12,821] Trial 39 finished with value: 0.709657594381036 and parameters: {'n_estimators': 500, 'max_depth': 8, 'min_samples_split': 7, 'min_samples_leaf': 2, 'max_features': 'sqrt', 'criterion': 'entropy'}. Best is trial 35 with value: 0.8492098331870062.\n",
      "[I 2024-11-06 16:52:28,010] Trial 40 finished with value: 0.8364793678665496 and parameters: {'n_estimators': 300, 'max_depth': 17, 'min_samples_split': 2, 'min_samples_leaf': 4, 'max_features': 'sqrt', 'criterion': 'entropy'}. Best is trial 35 with value: 0.8492098331870062.\n",
      "[I 2024-11-06 16:52:31,267] Trial 41 finished with value: 0.84486391571554 and parameters: {'n_estimators': 50, 'max_depth': 19, 'min_samples_split': 5, 'min_samples_leaf': 1, 'max_features': 'sqrt', 'criterion': 'entropy'}. Best is trial 35 with value: 0.8492098331870062.\n",
      "[I 2024-11-06 16:52:36,992] Trial 42 finished with value: 0.8460052677787533 and parameters: {'n_estimators': 100, 'max_depth': 19, 'min_samples_split': 5, 'min_samples_leaf': 2, 'max_features': 'sqrt', 'criterion': 'entropy'}. Best is trial 35 with value: 0.8492098331870062.\n",
      "[I 2024-11-06 16:52:42,537] Trial 43 finished with value: 0.84486391571554 and parameters: {'n_estimators': 100, 'max_depth': 18, 'min_samples_split': 4, 'min_samples_leaf': 2, 'max_features': 'sqrt', 'criterion': 'entropy'}. Best is trial 35 with value: 0.8492098331870062.\n",
      "[I 2024-11-06 16:52:49,806] Trial 44 finished with value: 0.6202809482001755 and parameters: {'n_estimators': 150, 'max_depth': 3, 'min_samples_split': 5, 'min_samples_leaf': 3, 'max_features': None, 'criterion': 'entropy'}. Best is trial 35 with value: 0.8492098331870062.\n",
      "[I 2024-11-06 16:53:03,503] Trial 45 finished with value: 0.848902546093064 and parameters: {'n_estimators': 250, 'max_depth': 19, 'min_samples_split': 3, 'min_samples_leaf': 2, 'max_features': 'sqrt', 'criterion': 'entropy'}. Best is trial 35 with value: 0.8492098331870062.\n",
      "[I 2024-11-06 16:53:15,983] Trial 46 finished with value: 0.8234855136084285 and parameters: {'n_estimators': 250, 'max_depth': 19, 'min_samples_split': 2, 'min_samples_leaf': 13, 'max_features': 'log2', 'criterion': 'entropy'}. Best is trial 35 with value: 0.8492098331870062.\n",
      "[I 2024-11-06 16:53:35,780] Trial 47 finished with value: 0.8305092186128182 and parameters: {'n_estimators': 400, 'max_depth': 16, 'min_samples_split': 4, 'min_samples_leaf': 4, 'max_features': 'sqrt', 'criterion': 'entropy'}. Best is trial 35 with value: 0.8492098331870062.\n",
      "[I 2024-11-06 16:53:54,098] Trial 48 finished with value: 0.845566286215979 and parameters: {'n_estimators': 350, 'max_depth': 18, 'min_samples_split': 3, 'min_samples_leaf': 2, 'max_features': 'sqrt', 'criterion': 'entropy'}. Best is trial 35 with value: 0.8492098331870062.\n",
      "[I 2024-11-06 16:54:11,703] Trial 49 finished with value: 0.8246268656716418 and parameters: {'n_estimators': 350, 'max_depth': 17, 'min_samples_split': 3, 'min_samples_leaf': 10, 'max_features': 'sqrt', 'criterion': 'entropy'}. Best is trial 35 with value: 0.8492098331870062.\n"
     ]
    },
    {
     "name": "stdout",
     "output_type": "stream",
     "text": [
      "Best hyperparameters: {'n_estimators': 300, 'max_depth': 19, 'min_samples_split': 6, 'min_samples_leaf': 1, 'max_features': 'sqrt', 'criterion': 'entropy'}\n",
      "Best validation accuracy: 0.8492098331870062\n"
     ]
    }
   ],
   "source": [
    "def objective(trial):\n",
    "    n_estimators = trial.suggest_int('n_estimators', 50, 500, step=50)  \n",
    "    max_depth = trial.suggest_int('max_depth', 3, 20) \n",
    "    min_samples_split = trial.suggest_int('min_samples_split', 2, 20)  \n",
    "    min_samples_leaf = trial.suggest_int('min_samples_leaf', 1, 20) \n",
    "    max_features = trial.suggest_categorical('max_features', ['sqrt', 'log2', None])  \n",
    "    criterion = trial.suggest_categorical('criterion', ['gini', 'entropy'])\n",
    "\n",
    "    rf = RandomForestClassifier(\n",
    "        n_estimators=n_estimators,\n",
    "        max_depth=max_depth,\n",
    "        min_samples_split=min_samples_split,\n",
    "        min_samples_leaf=min_samples_leaf,\n",
    "        max_features=max_features,\n",
    "        criterion=criterion,\n",
    "        random_state=42,\n",
    "        n_jobs=-1\n",
    "    )\n",
    "\n",
    "    rf.fit(X_train, y_train)\n",
    "    y_pred = rf.predict(X_test)\n",
    "    accuracy = accuracy_score(y_test, y_pred)\n",
    "    return accuracy \n",
    "\n",
    "study = optuna.create_study(direction='maximize')\n",
    "study.optimize(objective, n_trials=50)\n",
    "\n",
    "\n",
    "print(f\"Best hyperparameters: {study.best_params}\")\n",
    "\n",
    "print(f\"Best validation accuracy: {study.best_value}\")\n"
   ]
  },
  {
   "cell_type": "code",
   "execution_count": 51,
   "id": "a173d08b",
   "metadata": {},
   "outputs": [],
   "source": [
    "best_params=study.best_params"
   ]
  },
  {
   "cell_type": "code",
   "execution_count": 53,
   "id": "3ba850e7",
   "metadata": {},
   "outputs": [],
   "source": [
    "rf = RandomForestClassifier(n_estimators=best_params['n_estimators'],\n",
    "                            min_samples_split=best_params['min_samples_split'],\n",
    "                            min_samples_leaf=best_params['min_samples_leaf'],\n",
    "                            max_features=best_params['max_features'],\n",
    "                            max_depth=best_params['max_depth'],\n",
    "                            criterion=best_params['criterion'],\n",
    "                            n_jobs=-1)"
   ]
  },
  {
   "cell_type": "markdown",
   "id": "93a1836a",
   "metadata": {},
   "source": [
    "### Training"
   ]
  },
  {
   "cell_type": "code",
   "execution_count": 54,
   "id": "50fad898",
   "metadata": {},
   "outputs": [
    {
     "data": {
      "text/html": [
       "<style>#sk-container-id-3 {color: black;background-color: white;}#sk-container-id-3 pre{padding: 0;}#sk-container-id-3 div.sk-toggleable {background-color: white;}#sk-container-id-3 label.sk-toggleable__label {cursor: pointer;display: block;width: 100%;margin-bottom: 0;padding: 0.3em;box-sizing: border-box;text-align: center;}#sk-container-id-3 label.sk-toggleable__label-arrow:before {content: \"▸\";float: left;margin-right: 0.25em;color: #696969;}#sk-container-id-3 label.sk-toggleable__label-arrow:hover:before {color: black;}#sk-container-id-3 div.sk-estimator:hover label.sk-toggleable__label-arrow:before {color: black;}#sk-container-id-3 div.sk-toggleable__content {max-height: 0;max-width: 0;overflow: hidden;text-align: left;background-color: #f0f8ff;}#sk-container-id-3 div.sk-toggleable__content pre {margin: 0.2em;color: black;border-radius: 0.25em;background-color: #f0f8ff;}#sk-container-id-3 input.sk-toggleable__control:checked~div.sk-toggleable__content {max-height: 200px;max-width: 100%;overflow: auto;}#sk-container-id-3 input.sk-toggleable__control:checked~label.sk-toggleable__label-arrow:before {content: \"▾\";}#sk-container-id-3 div.sk-estimator input.sk-toggleable__control:checked~label.sk-toggleable__label {background-color: #d4ebff;}#sk-container-id-3 div.sk-label input.sk-toggleable__control:checked~label.sk-toggleable__label {background-color: #d4ebff;}#sk-container-id-3 input.sk-hidden--visually {border: 0;clip: rect(1px 1px 1px 1px);clip: rect(1px, 1px, 1px, 1px);height: 1px;margin: -1px;overflow: hidden;padding: 0;position: absolute;width: 1px;}#sk-container-id-3 div.sk-estimator {font-family: monospace;background-color: #f0f8ff;border: 1px dotted black;border-radius: 0.25em;box-sizing: border-box;margin-bottom: 0.5em;}#sk-container-id-3 div.sk-estimator:hover {background-color: #d4ebff;}#sk-container-id-3 div.sk-parallel-item::after {content: \"\";width: 100%;border-bottom: 1px solid gray;flex-grow: 1;}#sk-container-id-3 div.sk-label:hover label.sk-toggleable__label {background-color: #d4ebff;}#sk-container-id-3 div.sk-serial::before {content: \"\";position: absolute;border-left: 1px solid gray;box-sizing: border-box;top: 0;bottom: 0;left: 50%;z-index: 0;}#sk-container-id-3 div.sk-serial {display: flex;flex-direction: column;align-items: center;background-color: white;padding-right: 0.2em;padding-left: 0.2em;position: relative;}#sk-container-id-3 div.sk-item {position: relative;z-index: 1;}#sk-container-id-3 div.sk-parallel {display: flex;align-items: stretch;justify-content: center;background-color: white;position: relative;}#sk-container-id-3 div.sk-item::before, #sk-container-id-3 div.sk-parallel-item::before {content: \"\";position: absolute;border-left: 1px solid gray;box-sizing: border-box;top: 0;bottom: 0;left: 50%;z-index: -1;}#sk-container-id-3 div.sk-parallel-item {display: flex;flex-direction: column;z-index: 1;position: relative;background-color: white;}#sk-container-id-3 div.sk-parallel-item:first-child::after {align-self: flex-end;width: 50%;}#sk-container-id-3 div.sk-parallel-item:last-child::after {align-self: flex-start;width: 50%;}#sk-container-id-3 div.sk-parallel-item:only-child::after {width: 0;}#sk-container-id-3 div.sk-dashed-wrapped {border: 1px dashed gray;margin: 0 0.4em 0.5em 0.4em;box-sizing: border-box;padding-bottom: 0.4em;background-color: white;}#sk-container-id-3 div.sk-label label {font-family: monospace;font-weight: bold;display: inline-block;line-height: 1.2em;}#sk-container-id-3 div.sk-label-container {text-align: center;}#sk-container-id-3 div.sk-container {/* jupyter's `normalize.less` sets `[hidden] { display: none; }` but bootstrap.min.css set `[hidden] { display: none !important; }` so we also need the `!important` here to be able to override the default hidden behavior on the sphinx rendered scikit-learn.org. See: https://github.com/scikit-learn/scikit-learn/issues/21755 */display: inline-block !important;position: relative;}#sk-container-id-3 div.sk-text-repr-fallback {display: none;}</style><div id=\"sk-container-id-3\" class=\"sk-top-container\"><div class=\"sk-text-repr-fallback\"><pre>RandomForestClassifier(criterion=&#x27;entropy&#x27;, max_depth=19, min_samples_split=6,\n",
       "                       n_estimators=300, n_jobs=-1)</pre><b>In a Jupyter environment, please rerun this cell to show the HTML representation or trust the notebook. <br />On GitHub, the HTML representation is unable to render, please try loading this page with nbviewer.org.</b></div><div class=\"sk-container\" hidden><div class=\"sk-item\"><div class=\"sk-estimator sk-toggleable\"><input class=\"sk-toggleable__control sk-hidden--visually\" id=\"sk-estimator-id-3\" type=\"checkbox\" checked><label for=\"sk-estimator-id-3\" class=\"sk-toggleable__label sk-toggleable__label-arrow\">RandomForestClassifier</label><div class=\"sk-toggleable__content\"><pre>RandomForestClassifier(criterion=&#x27;entropy&#x27;, max_depth=19, min_samples_split=6,\n",
       "                       n_estimators=300, n_jobs=-1)</pre></div></div></div></div></div>"
      ],
      "text/plain": [
       "RandomForestClassifier(criterion='entropy', max_depth=19, min_samples_split=6,\n",
       "                       n_estimators=300, n_jobs=-1)"
      ]
     },
     "execution_count": 54,
     "metadata": {},
     "output_type": "execute_result"
    }
   ],
   "source": [
    "X_transformed=feature_transformation(X)[0]\n",
    "X_train, X_test, y_train, y_test = train_test_split(X_transformed, y, test_size=0.2, random_state=23)\n",
    "rf.fit(X_train, y_train)"
   ]
  },
  {
   "cell_type": "code",
   "execution_count": 55,
   "id": "7cde9335",
   "metadata": {},
   "outputs": [],
   "source": [
    "y_pred=rf.predict(X_test)\n",
    "y_scores = rf.predict_proba(X_test)[:, 1]"
   ]
  },
  {
   "cell_type": "markdown",
   "id": "0b76b69d",
   "metadata": {},
   "source": [
    "### Evaluation"
   ]
  },
  {
   "cell_type": "code",
   "execution_count": 56,
   "id": "29eaada4",
   "metadata": {},
   "outputs": [
    {
     "name": "stdout",
     "output_type": "stream",
     "text": [
      "Classification Report:\n",
      "              precision    recall  f1-score   support\n",
      "\n",
      "           0       0.89      0.78      0.84     11452\n",
      "           1       0.81      0.91      0.85     11328\n",
      "\n",
      "    accuracy                           0.85     22780\n",
      "   macro avg       0.85      0.85      0.84     22780\n",
      "weighted avg       0.85      0.85      0.84     22780\n",
      "\n"
     ]
    }
   ],
   "source": [
    "from sklearn.metrics import (roc_auc_score, roc_curve, confusion_matrix,\n",
    "                             ConfusionMatrixDisplay, classification_report)\n",
    "import matplotlib.pyplot as plt\n",
    "print(\"Classification Report:\")\n",
    "print(classification_report(y_test, y_pred))"
   ]
  },
  {
   "cell_type": "code",
   "execution_count": 57,
   "id": "dd51e11d",
   "metadata": {},
   "outputs": [
    {
     "data": {
      "image/png": "[encoded data removed]",
      "text/plain": [
       "<Figure size 640x480 with 2 Axes>"
      ]
     },
     "metadata": {},
     "output_type": "display_data"
    }
   ],
   "source": [
    "conf_matrix = confusion_matrix(y_test, y_pred)\n",
    "disp = ConfusionMatrixDisplay(confusion_matrix=conf_matrix, display_labels=[0, 1])\n",
    "disp.plot(cmap=plt.cm.Blues)\n",
    "plt.title('Confusion Matrix')\n",
    "plt.show()"
   ]
  },
  {
   "cell_type": "code",
   "execution_count": 58,
   "id": "26f00bbd",
   "metadata": {},
   "outputs": [
    {
     "name": "stdout",
     "output_type": "stream",
     "text": [
      "AUC-ROC Score: 0.9222339850155699\n"
     ]
    },
    {
     "data": {
      "image/png": "[encoded data removed]",
      "text/plain": [
       "<Figure size 640x480 with 1 Axes>"
      ]
     },
     "metadata": {},
     "output_type": "display_data"
    }
   ],
   "source": [
    "auc_score = roc_auc_score(y_test, y_scores)\n",
    "print(\"AUC-ROC Score:\", auc_score)\n",
    "\n",
    "\n",
    "fpr, tpr, thresholds = roc_curve(y_test, y_scores)\n",
    "\n",
    "plt.figure()\n",
    "plt.plot(fpr, tpr, color='blue', label='ROC curve (area = %0.2f)' % auc_score)\n",
    "plt.plot([0, 1], [0, 1], color='red', linestyle='--')  # Diagonal line\n",
    "plt.xlabel('False Positive Rate')\n",
    "plt.ylabel('True Positive Rate')\n",
    "plt.title('Receiver Operating Characteristic')\n",
    "plt.legend(loc='lower right')\n",
    "plt.show()"
   ]
  }
 ],
 "metadata": {
  "kernelspec": {
   "display_name": "ml_env",
   "language": "python",
   "name": "ml_env"
  },
  "language_info": {
   "codemirror_mode": {
    "name": "ipython",
    "version": 3
   },
   "file_extension": ".py",
   "mimetype": "text/x-python",
   "name": "python",
   "nbconvert_exporter": "python",
   "pygments_lexer": "ipython3",
   "version": "3.10.11"
  }
 },
 "nbformat": 4,
 "nbformat_minor": 5
}
