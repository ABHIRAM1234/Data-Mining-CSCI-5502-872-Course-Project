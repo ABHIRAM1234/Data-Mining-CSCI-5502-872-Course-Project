{
 "cells": [
  {
   "cell_type": "code",
   "execution_count": 16,
   "id": "745a4bb2",
   "metadata": {},
   "outputs": [],
   "source": [
    "import pandas as pd\n",
    "from sklearn.model_selection import KFold, cross_val_score, RandomizedSearchCV, train_test_split\n",
    "from scipy.stats import randint\n",
    "from sklearn.linear_model import LogisticRegression\n",
    "import numpy as np\n",
    "import optuna\n",
    "from sklearn.metrics import accuracy_score"
   ]
  },
  {
   "cell_type": "code",
   "execution_count": 6,
   "id": "69fc0ac9",
   "metadata": {},
   "outputs": [
    {
     "data": {
      "text/html": [
       "<div>\n",
       "<style scoped>\n",
       "    .dataframe tbody tr th:only-of-type {\n",
       "        vertical-align: middle;\n",
       "    }\n",
       "\n",
       "    .dataframe tbody tr th {\n",
       "        vertical-align: top;\n",
       "    }\n",
       "\n",
       "    .dataframe thead th {\n",
       "        text-align: right;\n",
       "    }\n",
       "</style>\n",
       "<table border=\"1\" class=\"dataframe\">\n",
       "  <thead>\n",
       "    <tr style=\"text-align: right;\">\n",
       "      <th></th>\n",
       "      <th>temperature_2m</th>\n",
       "      <th>relative_humidity_2m</th>\n",
       "      <th>dew_point_2m</th>\n",
       "      <th>apparent_temperature</th>\n",
       "      <th>precipitation</th>\n",
       "      <th>rain</th>\n",
       "      <th>snowfall</th>\n",
       "      <th>snow_depth</th>\n",
       "      <th>weather_code</th>\n",
       "      <th>pressure_msl</th>\n",
       "      <th>...</th>\n",
       "      <th>wind_gusts_10m</th>\n",
       "      <th>soil_temperature_0_to_7cm</th>\n",
       "      <th>soil_temperature_7_to_28cm</th>\n",
       "      <th>soil_temperature_28_to_100cm</th>\n",
       "      <th>soil_temperature_100_to_255cm</th>\n",
       "      <th>soil_moisture_0_to_7cm</th>\n",
       "      <th>soil_moisture_7_to_28cm</th>\n",
       "      <th>soil_moisture_28_to_100cm</th>\n",
       "      <th>soil_moisture_100_to_255cm</th>\n",
       "      <th>fire</th>\n",
       "    </tr>\n",
       "  </thead>\n",
       "  <tbody>\n",
       "    <tr>\n",
       "      <th>0</th>\n",
       "      <td>10.4600</td>\n",
       "      <td>95.42882</td>\n",
       "      <td>9.7600</td>\n",
       "      <td>9.326071</td>\n",
       "      <td>0.0</td>\n",
       "      <td>0.0</td>\n",
       "      <td>0.0</td>\n",
       "      <td>0.0</td>\n",
       "      <td>0.0</td>\n",
       "      <td>1012.4</td>\n",
       "      <td>...</td>\n",
       "      <td>11.879999</td>\n",
       "      <td>10.7600</td>\n",
       "      <td>13.110001</td>\n",
       "      <td>14.0100</td>\n",
       "      <td>21.910000</td>\n",
       "      <td>0.275</td>\n",
       "      <td>0.318</td>\n",
       "      <td>0.195</td>\n",
       "      <td>0.026</td>\n",
       "      <td>1</td>\n",
       "    </tr>\n",
       "    <tr>\n",
       "      <th>1</th>\n",
       "      <td>10.4535</td>\n",
       "      <td>95.42859</td>\n",
       "      <td>9.7535</td>\n",
       "      <td>9.317741</td>\n",
       "      <td>0.0</td>\n",
       "      <td>0.0</td>\n",
       "      <td>0.0</td>\n",
       "      <td>0.0</td>\n",
       "      <td>0.0</td>\n",
       "      <td>1012.4</td>\n",
       "      <td>...</td>\n",
       "      <td>11.879999</td>\n",
       "      <td>10.7535</td>\n",
       "      <td>13.103500</td>\n",
       "      <td>14.0035</td>\n",
       "      <td>21.903500</td>\n",
       "      <td>0.275</td>\n",
       "      <td>0.318</td>\n",
       "      <td>0.195</td>\n",
       "      <td>0.026</td>\n",
       "      <td>1</td>\n",
       "    </tr>\n",
       "    <tr>\n",
       "      <th>2</th>\n",
       "      <td>10.4145</td>\n",
       "      <td>95.42721</td>\n",
       "      <td>9.7145</td>\n",
       "      <td>9.267784</td>\n",
       "      <td>0.0</td>\n",
       "      <td>0.0</td>\n",
       "      <td>0.0</td>\n",
       "      <td>0.0</td>\n",
       "      <td>0.0</td>\n",
       "      <td>1012.4</td>\n",
       "      <td>...</td>\n",
       "      <td>11.879999</td>\n",
       "      <td>10.7145</td>\n",
       "      <td>13.064501</td>\n",
       "      <td>13.9645</td>\n",
       "      <td>21.864500</td>\n",
       "      <td>0.275</td>\n",
       "      <td>0.318</td>\n",
       "      <td>0.195</td>\n",
       "      <td>0.026</td>\n",
       "      <td>1</td>\n",
       "    </tr>\n",
       "    <tr>\n",
       "      <th>3</th>\n",
       "      <td>9.2235</td>\n",
       "      <td>99.66392</td>\n",
       "      <td>9.1735</td>\n",
       "      <td>8.143780</td>\n",
       "      <td>0.0</td>\n",
       "      <td>0.0</td>\n",
       "      <td>0.0</td>\n",
       "      <td>0.0</td>\n",
       "      <td>0.0</td>\n",
       "      <td>1012.5</td>\n",
       "      <td>...</td>\n",
       "      <td>13.320000</td>\n",
       "      <td>10.4235</td>\n",
       "      <td>12.823500</td>\n",
       "      <td>13.7235</td>\n",
       "      <td>21.923500</td>\n",
       "      <td>0.273</td>\n",
       "      <td>0.324</td>\n",
       "      <td>0.201</td>\n",
       "      <td>0.020</td>\n",
       "      <td>1</td>\n",
       "    </tr>\n",
       "    <tr>\n",
       "      <th>4</th>\n",
       "      <td>9.2430</td>\n",
       "      <td>99.66399</td>\n",
       "      <td>9.1930</td>\n",
       "      <td>8.168585</td>\n",
       "      <td>0.0</td>\n",
       "      <td>0.0</td>\n",
       "      <td>0.0</td>\n",
       "      <td>0.0</td>\n",
       "      <td>0.0</td>\n",
       "      <td>1012.5</td>\n",
       "      <td>...</td>\n",
       "      <td>13.320000</td>\n",
       "      <td>10.4430</td>\n",
       "      <td>12.842999</td>\n",
       "      <td>13.7430</td>\n",
       "      <td>21.942999</td>\n",
       "      <td>0.273</td>\n",
       "      <td>0.324</td>\n",
       "      <td>0.201</td>\n",
       "      <td>0.020</td>\n",
       "      <td>1</td>\n",
       "    </tr>\n",
       "  </tbody>\n",
       "</table>\n",
       "<p>5 rows × 31 columns</p>\n",
       "</div>"
      ],
      "text/plain": [
       "   temperature_2m  relative_humidity_2m  dew_point_2m  apparent_temperature  \\\n",
       "0         10.4600              95.42882        9.7600              9.326071   \n",
       "1         10.4535              95.42859        9.7535              9.317741   \n",
       "2         10.4145              95.42721        9.7145              9.267784   \n",
       "3          9.2235              99.66392        9.1735              8.143780   \n",
       "4          9.2430              99.66399        9.1930              8.168585   \n",
       "\n",
       "   precipitation  rain  snowfall  snow_depth  weather_code  pressure_msl  ...  \\\n",
       "0            0.0   0.0       0.0         0.0           0.0        1012.4  ...   \n",
       "1            0.0   0.0       0.0         0.0           0.0        1012.4  ...   \n",
       "2            0.0   0.0       0.0         0.0           0.0        1012.4  ...   \n",
       "3            0.0   0.0       0.0         0.0           0.0        1012.5  ...   \n",
       "4            0.0   0.0       0.0         0.0           0.0        1012.5  ...   \n",
       "\n",
       "   wind_gusts_10m  soil_temperature_0_to_7cm  soil_temperature_7_to_28cm  \\\n",
       "0       11.879999                    10.7600                   13.110001   \n",
       "1       11.879999                    10.7535                   13.103500   \n",
       "2       11.879999                    10.7145                   13.064501   \n",
       "3       13.320000                    10.4235                   12.823500   \n",
       "4       13.320000                    10.4430                   12.842999   \n",
       "\n",
       "   soil_temperature_28_to_100cm  soil_temperature_100_to_255cm  \\\n",
       "0                       14.0100                      21.910000   \n",
       "1                       14.0035                      21.903500   \n",
       "2                       13.9645                      21.864500   \n",
       "3                       13.7235                      21.923500   \n",
       "4                       13.7430                      21.942999   \n",
       "\n",
       "   soil_moisture_0_to_7cm  soil_moisture_7_to_28cm  soil_moisture_28_to_100cm  \\\n",
       "0                   0.275                    0.318                      0.195   \n",
       "1                   0.275                    0.318                      0.195   \n",
       "2                   0.275                    0.318                      0.195   \n",
       "3                   0.273                    0.324                      0.201   \n",
       "4                   0.273                    0.324                      0.201   \n",
       "\n",
       "   soil_moisture_100_to_255cm  fire  \n",
       "0                       0.026     1  \n",
       "1                       0.026     1  \n",
       "2                       0.026     1  \n",
       "3                       0.020     1  \n",
       "4                       0.020     1  \n",
       "\n",
       "[5 rows x 31 columns]"
      ]
     },
     "execution_count": 6,
     "metadata": {},
     "output_type": "execute_result"
    }
   ],
   "source": [
    "training_df=pd.read_csv(\"../Datasets/training_df_raw.csv\")\n",
    "training_df.fillna(0,inplace=True)\n",
    "training_df.drop(['date','time'],axis=1,inplace=True)\n",
    "training_df.head()"
   ]
  },
  {
   "cell_type": "code",
   "execution_count": 9,
   "id": "dec6af67",
   "metadata": {},
   "outputs": [],
   "source": [
    "X=training_df.drop('fire',axis=1)\n",
    "y=training_df['fire']"
   ]
  },
  {
   "cell_type": "markdown",
   "id": "7fb9b6f3",
   "metadata": {},
   "source": [
    "### Dropping highly correlated features"
   ]
  },
  {
   "cell_type": "code",
   "execution_count": 10,
   "id": "4e048a7f",
   "metadata": {},
   "outputs": [
    {
     "data": {
      "text/plain": [
       "(113896, 22)"
      ]
     },
     "execution_count": 10,
     "metadata": {},
     "output_type": "execute_result"
    }
   ],
   "source": [
    "high_correlated_features=['soil_temperature_7_to_28cm','wind_direction_10m','temperature_2m','soil_moisture_28_to_100cm',\n",
    "                          'soil_moisture_7_to_28cm','soil_temperature_100_to_255cm','soil_temperature_28_to_100cm',\n",
    "                          'soil_temperature_100_to_255cm','soil_moisture_100_to_255cm']\n",
    "drop_features=high_correlated_features\n",
    "X.drop(drop_features,axis=1,inplace=True)\n",
    "X.shape"
   ]
  },
  {
   "cell_type": "code",
   "execution_count": 11,
   "id": "9939d82a",
   "metadata": {},
   "outputs": [],
   "source": [
    "\"\"\"\n",
    "Standard Scaling for the numerical variables cause every column is in different units - Centigrade, centimeter, millimeter etc\n",
    "\"\"\"\n",
    "from sklearn.pipeline import Pipeline\n",
    "from sklearn.preprocessing import StandardScaler\n",
    "from sklearn.compose import ColumnTransformer\n",
    "\n",
    "def feature_transformation(encode_df):\n",
    "    num_attributes=encode_df.columns.to_list()\n",
    "    numeric_pipeline=Pipeline([\n",
    "        ('std_scaler',StandardScaler())\n",
    "    ])\n",
    "    encoder_pipeline=ColumnTransformer([\n",
    "        (\"numeric_var\",numeric_pipeline,num_attributes),\n",
    "    ])\n",
    "    df_encoded=encoder_pipeline.fit_transform(encode_df)\n",
    "    return df_encoded,encoder_pipeline\n",
    "X_transformed=feature_transformation(X)[0]"
   ]
  },
  {
   "cell_type": "markdown",
   "id": "30dba9db",
   "metadata": {},
   "source": [
    "### K Fold Cross Validation"
   ]
  },
  {
   "cell_type": "code",
   "execution_count": 14,
   "id": "7b47fa2f",
   "metadata": {},
   "outputs": [],
   "source": [
    "X_transformed=feature_transformation(X)[0]\n",
    "X_train, X_test, y_train, y_test = train_test_split(X_transformed, y, test_size=0.2, random_state=42)"
   ]
  },
  {
   "cell_type": "code",
   "execution_count": 17,
   "id": "9a3c3639",
   "metadata": {},
   "outputs": [],
   "source": [
    "lr = LogisticRegression(max_iter=1000)"
   ]
  },
  {
   "cell_type": "code",
   "execution_count": 18,
   "id": "8dc6fac6",
   "metadata": {},
   "outputs": [
    {
     "name": "stdout",
     "output_type": "stream",
     "text": [
      "Mean Accuracy = 0.5835\n"
     ]
    }
   ],
   "source": [
    "kf = KFold(n_splits=5, shuffle=True, random_state=42)\n",
    "scores = cross_val_score(lr, X_train, y_train, cv=kf, scoring='accuracy')\n",
    "print(f\"Mean Accuracy = {np.mean(scores):.4f}\")"
   ]
  },
  {
   "cell_type": "code",
   "execution_count": 23,
   "id": "a769de92",
   "metadata": {},
   "outputs": [],
   "source": [
    "# !pip3 install hyperopt"
   ]
  },
  {
   "cell_type": "markdown",
   "id": "80c07e9d",
   "metadata": {},
   "source": [
    "### Hyperparameter Tuning using hyperopt"
   ]
  },
  {
   "cell_type": "code",
   "execution_count": 21,
   "id": "120a3a3b",
   "metadata": {},
   "outputs": [],
   "source": [
    "from sklearn.metrics import accuracy_score\n",
    "from hyperopt import fmin, tpe, hp, Trials, STATUS_OK"
   ]
  },
  {
   "cell_type": "code",
   "execution_count": 25,
   "id": "0ddc9d5a",
   "metadata": {
    "scrolled": true
   },
   "outputs": [
    {
     "name": "stdout",
     "output_type": "stream",
     "text": [
      "100%|███████████████████████████████████████████████| 50/50 [00:33<00:00,  1.48trial/s, best loss: -0.5842405618964004]\n",
      "Best hyperparameters found: {'C': 0.01667000925475309, 'max_iter': 2, 'penalty': 0, 'solver': 0}\n"
     ]
    }
   ],
   "source": [
    "space = {\n",
    "    'C': hp.loguniform('C', -5, 5),\n",
    "    'max_iter': hp.choice('max_iter', [50, 100, 200, 300]),\n",
    "    'solver': hp.choice('solver', ['liblinear', 'lbfgs', 'newton-cg']),\n",
    "    'penalty': hp.choice('penalty', ['l2'])\n",
    "}\n",
    "space_mapping={\n",
    "    'max_iter' : [50,100,200,300],\n",
    "    'solver':['liblinear', 'lbfgs', 'newton-cg']}\n",
    "def objective(params):\n",
    "    model = LogisticRegression(C=params['C'], \n",
    "                               max_iter=params['max_iter'], \n",
    "                               solver=params['solver'],\n",
    "                               penalty=params['penalty'], \n",
    "                               multi_class='ovr', \n",
    "                               random_state=42)\n",
    "    model.fit(X_train, y_train)\n",
    "    y_pred = model.predict(X_test)\n",
    "    accuracy = accuracy_score(y_test, y_pred)\n",
    "    return {'loss': -accuracy, 'status': STATUS_OK}\n",
    "trials = Trials()\n",
    "\n",
    "best = fmin(fn=objective,  \n",
    "            space=space,\n",
    "            algo=tpe.suggest,\n",
    "            max_evals=50, \n",
    "            trials=trials)\n",
    "\n",
    "print(\"Best hyperparameters found:\", best)"
   ]
  },
  {
   "cell_type": "code",
   "execution_count": 51,
   "id": "a17d47f6",
   "metadata": {},
   "outputs": [
    {
     "data": {
      "text/html": [
       "<style>#sk-container-id-5 {color: black;background-color: white;}#sk-container-id-5 pre{padding: 0;}#sk-container-id-5 div.sk-toggleable {background-color: white;}#sk-container-id-5 label.sk-toggleable__label {cursor: pointer;display: block;width: 100%;margin-bottom: 0;padding: 0.3em;box-sizing: border-box;text-align: center;}#sk-container-id-5 label.sk-toggleable__label-arrow:before {content: \"▸\";float: left;margin-right: 0.25em;color: #696969;}#sk-container-id-5 label.sk-toggleable__label-arrow:hover:before {color: black;}#sk-container-id-5 div.sk-estimator:hover label.sk-toggleable__label-arrow:before {color: black;}#sk-container-id-5 div.sk-toggleable__content {max-height: 0;max-width: 0;overflow: hidden;text-align: left;background-color: #f0f8ff;}#sk-container-id-5 div.sk-toggleable__content pre {margin: 0.2em;color: black;border-radius: 0.25em;background-color: #f0f8ff;}#sk-container-id-5 input.sk-toggleable__control:checked~div.sk-toggleable__content {max-height: 200px;max-width: 100%;overflow: auto;}#sk-container-id-5 input.sk-toggleable__control:checked~label.sk-toggleable__label-arrow:before {content: \"▾\";}#sk-container-id-5 div.sk-estimator input.sk-toggleable__control:checked~label.sk-toggleable__label {background-color: #d4ebff;}#sk-container-id-5 div.sk-label input.sk-toggleable__control:checked~label.sk-toggleable__label {background-color: #d4ebff;}#sk-container-id-5 input.sk-hidden--visually {border: 0;clip: rect(1px 1px 1px 1px);clip: rect(1px, 1px, 1px, 1px);height: 1px;margin: -1px;overflow: hidden;padding: 0;position: absolute;width: 1px;}#sk-container-id-5 div.sk-estimator {font-family: monospace;background-color: #f0f8ff;border: 1px dotted black;border-radius: 0.25em;box-sizing: border-box;margin-bottom: 0.5em;}#sk-container-id-5 div.sk-estimator:hover {background-color: #d4ebff;}#sk-container-id-5 div.sk-parallel-item::after {content: \"\";width: 100%;border-bottom: 1px solid gray;flex-grow: 1;}#sk-container-id-5 div.sk-label:hover label.sk-toggleable__label {background-color: #d4ebff;}#sk-container-id-5 div.sk-serial::before {content: \"\";position: absolute;border-left: 1px solid gray;box-sizing: border-box;top: 0;bottom: 0;left: 50%;z-index: 0;}#sk-container-id-5 div.sk-serial {display: flex;flex-direction: column;align-items: center;background-color: white;padding-right: 0.2em;padding-left: 0.2em;position: relative;}#sk-container-id-5 div.sk-item {position: relative;z-index: 1;}#sk-container-id-5 div.sk-parallel {display: flex;align-items: stretch;justify-content: center;background-color: white;position: relative;}#sk-container-id-5 div.sk-item::before, #sk-container-id-5 div.sk-parallel-item::before {content: \"\";position: absolute;border-left: 1px solid gray;box-sizing: border-box;top: 0;bottom: 0;left: 50%;z-index: -1;}#sk-container-id-5 div.sk-parallel-item {display: flex;flex-direction: column;z-index: 1;position: relative;background-color: white;}#sk-container-id-5 div.sk-parallel-item:first-child::after {align-self: flex-end;width: 50%;}#sk-container-id-5 div.sk-parallel-item:last-child::after {align-self: flex-start;width: 50%;}#sk-container-id-5 div.sk-parallel-item:only-child::after {width: 0;}#sk-container-id-5 div.sk-dashed-wrapped {border: 1px dashed gray;margin: 0 0.4em 0.5em 0.4em;box-sizing: border-box;padding-bottom: 0.4em;background-color: white;}#sk-container-id-5 div.sk-label label {font-family: monospace;font-weight: bold;display: inline-block;line-height: 1.2em;}#sk-container-id-5 div.sk-label-container {text-align: center;}#sk-container-id-5 div.sk-container {/* jupyter's `normalize.less` sets `[hidden] { display: none; }` but bootstrap.min.css set `[hidden] { display: none !important; }` so we also need the `!important` here to be able to override the default hidden behavior on the sphinx rendered scikit-learn.org. See: https://github.com/scikit-learn/scikit-learn/issues/21755 */display: inline-block !important;position: relative;}#sk-container-id-5 div.sk-text-repr-fallback {display: none;}</style><div id=\"sk-container-id-5\" class=\"sk-top-container\"><div class=\"sk-text-repr-fallback\"><pre>LogisticRegression(C=0.01667000925475309, max_iter=200, solver=&#x27;liblinear&#x27;)</pre><b>In a Jupyter environment, please rerun this cell to show the HTML representation or trust the notebook. <br />On GitHub, the HTML representation is unable to render, please try loading this page with nbviewer.org.</b></div><div class=\"sk-container\" hidden><div class=\"sk-item\"><div class=\"sk-estimator sk-toggleable\"><input class=\"sk-toggleable__control sk-hidden--visually\" id=\"sk-estimator-id-5\" type=\"checkbox\" checked><label for=\"sk-estimator-id-5\" class=\"sk-toggleable__label sk-toggleable__label-arrow\">LogisticRegression</label><div class=\"sk-toggleable__content\"><pre>LogisticRegression(C=0.01667000925475309, max_iter=200, solver=&#x27;liblinear&#x27;)</pre></div></div></div></div></div>"
      ],
      "text/plain": [
       "LogisticRegression(C=0.01667000925475309, max_iter=200, solver='liblinear')"
      ]
     },
     "execution_count": 51,
     "metadata": {},
     "output_type": "execute_result"
    }
   ],
   "source": [
    "lr = LogisticRegression(C=best['C'],max_iter=space_mapping['max_iter'][best['max_iter']],\n",
    "                        penalty='l2',solver=space_mapping['solver'][best['solver']])\n",
    "lr"
   ]
  },
  {
   "cell_type": "markdown",
   "id": "b9e854e9",
   "metadata": {},
   "source": [
    "### Model Training"
   ]
  },
  {
   "cell_type": "code",
   "execution_count": 52,
   "id": "e73a3456",
   "metadata": {},
   "outputs": [
    {
     "data": {
      "text/html": [
       "<style>#sk-container-id-6 {color: black;background-color: white;}#sk-container-id-6 pre{padding: 0;}#sk-container-id-6 div.sk-toggleable {background-color: white;}#sk-container-id-6 label.sk-toggleable__label {cursor: pointer;display: block;width: 100%;margin-bottom: 0;padding: 0.3em;box-sizing: border-box;text-align: center;}#sk-container-id-6 label.sk-toggleable__label-arrow:before {content: \"▸\";float: left;margin-right: 0.25em;color: #696969;}#sk-container-id-6 label.sk-toggleable__label-arrow:hover:before {color: black;}#sk-container-id-6 div.sk-estimator:hover label.sk-toggleable__label-arrow:before {color: black;}#sk-container-id-6 div.sk-toggleable__content {max-height: 0;max-width: 0;overflow: hidden;text-align: left;background-color: #f0f8ff;}#sk-container-id-6 div.sk-toggleable__content pre {margin: 0.2em;color: black;border-radius: 0.25em;background-color: #f0f8ff;}#sk-container-id-6 input.sk-toggleable__control:checked~div.sk-toggleable__content {max-height: 200px;max-width: 100%;overflow: auto;}#sk-container-id-6 input.sk-toggleable__control:checked~label.sk-toggleable__label-arrow:before {content: \"▾\";}#sk-container-id-6 div.sk-estimator input.sk-toggleable__control:checked~label.sk-toggleable__label {background-color: #d4ebff;}#sk-container-id-6 div.sk-label input.sk-toggleable__control:checked~label.sk-toggleable__label {background-color: #d4ebff;}#sk-container-id-6 input.sk-hidden--visually {border: 0;clip: rect(1px 1px 1px 1px);clip: rect(1px, 1px, 1px, 1px);height: 1px;margin: -1px;overflow: hidden;padding: 0;position: absolute;width: 1px;}#sk-container-id-6 div.sk-estimator {font-family: monospace;background-color: #f0f8ff;border: 1px dotted black;border-radius: 0.25em;box-sizing: border-box;margin-bottom: 0.5em;}#sk-container-id-6 div.sk-estimator:hover {background-color: #d4ebff;}#sk-container-id-6 div.sk-parallel-item::after {content: \"\";width: 100%;border-bottom: 1px solid gray;flex-grow: 1;}#sk-container-id-6 div.sk-label:hover label.sk-toggleable__label {background-color: #d4ebff;}#sk-container-id-6 div.sk-serial::before {content: \"\";position: absolute;border-left: 1px solid gray;box-sizing: border-box;top: 0;bottom: 0;left: 50%;z-index: 0;}#sk-container-id-6 div.sk-serial {display: flex;flex-direction: column;align-items: center;background-color: white;padding-right: 0.2em;padding-left: 0.2em;position: relative;}#sk-container-id-6 div.sk-item {position: relative;z-index: 1;}#sk-container-id-6 div.sk-parallel {display: flex;align-items: stretch;justify-content: center;background-color: white;position: relative;}#sk-container-id-6 div.sk-item::before, #sk-container-id-6 div.sk-parallel-item::before {content: \"\";position: absolute;border-left: 1px solid gray;box-sizing: border-box;top: 0;bottom: 0;left: 50%;z-index: -1;}#sk-container-id-6 div.sk-parallel-item {display: flex;flex-direction: column;z-index: 1;position: relative;background-color: white;}#sk-container-id-6 div.sk-parallel-item:first-child::after {align-self: flex-end;width: 50%;}#sk-container-id-6 div.sk-parallel-item:last-child::after {align-self: flex-start;width: 50%;}#sk-container-id-6 div.sk-parallel-item:only-child::after {width: 0;}#sk-container-id-6 div.sk-dashed-wrapped {border: 1px dashed gray;margin: 0 0.4em 0.5em 0.4em;box-sizing: border-box;padding-bottom: 0.4em;background-color: white;}#sk-container-id-6 div.sk-label label {font-family: monospace;font-weight: bold;display: inline-block;line-height: 1.2em;}#sk-container-id-6 div.sk-label-container {text-align: center;}#sk-container-id-6 div.sk-container {/* jupyter's `normalize.less` sets `[hidden] { display: none; }` but bootstrap.min.css set `[hidden] { display: none !important; }` so we also need the `!important` here to be able to override the default hidden behavior on the sphinx rendered scikit-learn.org. See: https://github.com/scikit-learn/scikit-learn/issues/21755 */display: inline-block !important;position: relative;}#sk-container-id-6 div.sk-text-repr-fallback {display: none;}</style><div id=\"sk-container-id-6\" class=\"sk-top-container\"><div class=\"sk-text-repr-fallback\"><pre>LogisticRegression(C=0.01667000925475309, max_iter=200, solver=&#x27;liblinear&#x27;)</pre><b>In a Jupyter environment, please rerun this cell to show the HTML representation or trust the notebook. <br />On GitHub, the HTML representation is unable to render, please try loading this page with nbviewer.org.</b></div><div class=\"sk-container\" hidden><div class=\"sk-item\"><div class=\"sk-estimator sk-toggleable\"><input class=\"sk-toggleable__control sk-hidden--visually\" id=\"sk-estimator-id-6\" type=\"checkbox\" checked><label for=\"sk-estimator-id-6\" class=\"sk-toggleable__label sk-toggleable__label-arrow\">LogisticRegression</label><div class=\"sk-toggleable__content\"><pre>LogisticRegression(C=0.01667000925475309, max_iter=200, solver=&#x27;liblinear&#x27;)</pre></div></div></div></div></div>"
      ],
      "text/plain": [
       "LogisticRegression(C=0.01667000925475309, max_iter=200, solver='liblinear')"
      ]
     },
     "execution_count": 52,
     "metadata": {},
     "output_type": "execute_result"
    }
   ],
   "source": [
    "X_transformed=feature_transformation(X)[0]\n",
    "X_train, X_test, y_train, y_test = train_test_split(X_transformed, y, test_size=0.2, random_state=23)\n",
    "lr.fit(X_train, y_train)"
   ]
  },
  {
   "cell_type": "code",
   "execution_count": 53,
   "id": "9e092fc2",
   "metadata": {},
   "outputs": [],
   "source": [
    "y_pred=lr.predict(X_test)\n",
    "y_scores = lr.predict_proba(X_test)[:, 1]"
   ]
  },
  {
   "cell_type": "markdown",
   "id": "7cb5b87c",
   "metadata": {},
   "source": [
    "### Evaluation"
   ]
  },
  {
   "cell_type": "code",
   "execution_count": 54,
   "id": "d2ae6612",
   "metadata": {},
   "outputs": [
    {
     "name": "stdout",
     "output_type": "stream",
     "text": [
      "Classification Report:\n",
      "              precision    recall  f1-score   support\n",
      "\n",
      "           0       0.59      0.59      0.59     11452\n",
      "           1       0.59      0.59      0.59     11328\n",
      "\n",
      "    accuracy                           0.59     22780\n",
      "   macro avg       0.59      0.59      0.59     22780\n",
      "weighted avg       0.59      0.59      0.59     22780\n",
      "\n"
     ]
    }
   ],
   "source": [
    "from sklearn.metrics import (roc_auc_score, roc_curve, confusion_matrix,\n",
    "                             ConfusionMatrixDisplay, classification_report)\n",
    "import matplotlib.pyplot as plt\n",
    "print(\"Classification Report:\")\n",
    "print(classification_report(y_test, y_pred))"
   ]
  },
  {
   "cell_type": "code",
   "execution_count": 55,
   "id": "4e2f7a62",
   "metadata": {},
   "outputs": [
    {
     "data": {
      "image/png": "[encoded data removed]",
      "text/plain": [
       "<Figure size 640x480 with 2 Axes>"
      ]
     },
     "metadata": {},
     "output_type": "display_data"
    }
   ],
   "source": [
    "conf_matrix = confusion_matrix(y_test, y_pred)\n",
    "disp = ConfusionMatrixDisplay(confusion_matrix=conf_matrix, display_labels=[0, 1])\n",
    "disp.plot(cmap=plt.cm.Blues)\n",
    "plt.title('Confusion Matrix')\n",
    "plt.show()"
   ]
  },
  {
   "cell_type": "code",
   "execution_count": 56,
   "id": "ba150f86",
   "metadata": {},
   "outputs": [
    {
     "name": "stdout",
     "output_type": "stream",
     "text": [
      "AUC-ROC Score: 0.618857645014514\n"
     ]
    },
    {
     "data": {
      "image/png": "[encoded data removed]",
      "text/plain": [
       "<Figure size 640x480 with 1 Axes>"
      ]
     },
     "metadata": {},
     "output_type": "display_data"
    }
   ],
   "source": [
    "auc_score = roc_auc_score(y_test, y_scores)\n",
    "print(\"AUC-ROC Score:\", auc_score)\n",
    "\n",
    "\n",
    "fpr, tpr, thresholds = roc_curve(y_test, y_scores)\n",
    "\n",
    "plt.figure()\n",
    "plt.plot(fpr, tpr, color='blue', label='ROC curve (area = %0.2f)' % auc_score)\n",
    "plt.plot([0, 1], [0, 1], color='red', linestyle='--')  # Diagonal line\n",
    "plt.xlabel('False Positive Rate')\n",
    "plt.ylabel('True Positive Rate')\n",
    "plt.title('Receiver Operating Characteristic')\n",
    "plt.legend(loc='lower right')\n",
    "plt.show()"
   ]
  }
 ],
 "metadata": {
  "kernelspec": {
   "display_name": "ml_env",
   "language": "python",
   "name": "ml_env"
  },
  "language_info": {
   "codemirror_mode": {
    "name": "ipython",
    "version": 3
   },
   "file_extension": ".py",
   "mimetype": "text/x-python",
   "name": "python",
   "nbconvert_exporter": "python",
   "pygments_lexer": "ipython3",
   "version": "3.10.11"
  }
 },
 "nbformat": 4,
 "nbformat_minor": 5
}
